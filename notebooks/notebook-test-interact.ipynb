{
 "cells": [
  {
   "cell_type": "code",
   "execution_count": 1,
   "metadata": {
    "collapsed": false
   },
   "outputs": [
    {
     "name": "stderr",
     "output_type": "stream",
     "text": [
      "/Users/Gui/anaconda/lib/python3.6/site-packages/matplotlib/__init__.py:913: UserWarning: axes.color_cycle is deprecated and replaced with axes.prop_cycle; please use the latter.\n",
      "  warnings.warn(self.msg_depr % (key, alt_key))\n"
     ]
    }
   ],
   "source": [
    "from ipywidgets import *\n",
    "import numpy as np\n",
    "import matplotlib.pyplot as plt\n"
   ]
  },
  {
   "cell_type": "code",
   "execution_count": 15,
   "metadata": {
    "collapsed": false
   },
   "outputs": [
    {
     "data": {
      "image/png": "[encoded data removed]",
      "text/plain": [
       "<matplotlib.figure.Figure at 0x10f868128>"
      ]
     },
     "metadata": {},
     "output_type": "display_data"
    }
   ],
   "source": [
    "t = np.arange(0., 1., 0.01)\n",
    "\n",
    "def plot_mean_median(f):\n",
    "    data = np.random.rand(f)\n",
    "    plt.hist(data)\n",
    "    plt.axvline(np.mean(data), color='r', label='mean')\n",
    "    plt.axvline(np.median(data), color='b', label='median')\n",
    "    plt.legend(loc='upper right')\n",
    "    plt.show()\n",
    "\n",
    "interact(plot_mean_median, f=(10, 500, 10))"
   ]
  },
  {
   "cell_type": "markdown",
   "metadata": {},
   "source": [
    "# Mean vs Median"
   ]
  },
  {
   "cell_type": "code",
   "execution_count": 46,
   "metadata": {
    "collapsed": false
   },
   "outputs": [
    {
     "data": {
      "image/png": "[encoded data removed]",
      "text/plain": [
       "<matplotlib.figure.Figure at 0x1157c26a0>"
      ]
     },
     "metadata": {},
     "output_type": "display_data"
    }
   ],
   "source": [
    "from scipy.stats import powerlognorm, exponnorm\n",
    "\n",
    "#c, s = 2.14, 0.446\n",
    "#mean, var, skew, kurt = powerlognorm.stats(c, s, moments='mvsk')\n",
    "\n",
    "#r = powerlognorm.rvs(c, s, size=1000)\n",
    "\n",
    "#ax.hist(r, normed=True, histtype='stepfilled', alpha=0.2)\n",
    "\n",
    "def plot_mean_median2(K):\n",
    "    #data\n",
    "    data = exponnorm.rvs(K, size=1000) #for histogram\n",
    "    rv = exponnorm(K) #for pdf\n",
    "    x = np.linspace(exponnorm.ppf(0.01, K), exponnorm.ppf(0.99, K), 100) #x for the pdf\n",
    "    #plot\n",
    "    fig,ax = plt.subplots(figsize=(10, 4))\n",
    "    ax.hist(data, bins=30, normed=True)\n",
    "    ax.plot(x, rv.pdf(x), 'k-')\n",
    "    ax.axvline(np.mean(data), color='r', label='mean')\n",
    "    ax.axvline(np.median(data), color='b', label='median')\n",
    "    ax.legend(loc='upper right')\n",
    "    ax.set_xlim(-4, 65)\n",
    "    plt.show()\n",
    "\n",
    "interact(plot_mean_median2, K=(0.04, 10, 0.01))"
   ]
  },
  {
   "cell_type": "code",
   "execution_count": 8,
   "metadata": {
    "collapsed": false
   },
   "outputs": [
    {
     "data": {
      "text/plain": [
       "array(0.8112273848133019)"
      ]
     },
     "execution_count": 8,
     "metadata": {},
     "output_type": "execute_result"
    }
   ],
   "source": []
  },
  {
   "cell_type": "code",
   "execution_count": null,
   "metadata": {
    "collapsed": true
   },
   "outputs": [],
   "source": []
  }
 ],
 "metadata": {
  "kernelspec": {
   "display_name": "Python 3",
   "language": "python",
   "name": "python3"
  },
  "language_info": {
   "codemirror_mode": {
    "name": "ipython",
    "version": 3
   },
   "file_extension": ".py",
   "mimetype": "text/x-python",
   "name": "python",
   "nbconvert_exporter": "python",
   "pygments_lexer": "ipython3",
   "version": "3.6.0"
  },
  "widgets": {
   "state": {
    "757fedb74e2240349b85a957b5064575": {
     "views": [
      {
       "cell_index": 3
      }
     ]
    }
   },
   "version": "1.2.0"
  }
 },
 "nbformat": 4,
 "nbformat_minor": 2
}
